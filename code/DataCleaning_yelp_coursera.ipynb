{
 "cells": [
  {
   "cell_type": "code",
   "execution_count": 1,
   "metadata": {
    "colab": {},
    "colab_type": "code",
    "id": "v5zxYtWG6aDH"
   },
   "outputs": [],
   "source": [
    "import re\n",
    "import json\n",
    "import pandas as pd\n",
    "from tqdm import tqdm\n",
    "import numpy as np\n",
    "from langdetect import detect, DetectorFactory\n",
    "from nltk.corpus import wordnet as wn\n",
    "from nltk.stem import WordNetLemmatizer\n",
    "import nltk\n",
    "import re\n",
    "import pprint\n",
    "from collections import Counter\n",
    "from langdetect import detect, DetectorFactory\n",
    "import string\n",
    "from nltk.tokenize import RegexpTokenizer\n",
    "from nltk.tokenize import sent_tokenize, word_tokenize\n",
    "from nltk import pos_tag\n",
    "from sklearn.feature_extraction.text import TfidfVectorizer, CountVectorizer"
   ]
  },
  {
   "cell_type": "markdown",
   "metadata": {},
   "source": [
    "## Data cleaning for yelp dataset"
   ]
  },
  {
   "cell_type": "code",
   "execution_count": 2,
   "metadata": {
    "colab": {},
    "colab_type": "code",
    "id": "kgpo43zL6aDL"
   },
   "outputs": [],
   "source": [
    "data = []\n",
    "with open('../data/yelp-dataset/yelp_academic_dataset_review.json',encoding=\"utf8\") as f:\n",
    "    for line in f:\n",
    "        data.append(json.loads(line))"
   ]
  },
  {
   "cell_type": "code",
   "execution_count": 4,
   "metadata": {},
   "outputs": [],
   "source": [
    "DF = pd.DataFrame(data)"
   ]
  },
  {
   "cell_type": "code",
   "execution_count": 6,
   "metadata": {},
   "outputs": [],
   "source": [
    "DF_drop = DF[DF['stars']!= 3.0]"
   ]
  },
  {
   "cell_type": "code",
   "execution_count": 7,
   "metadata": {},
   "outputs": [
    {
     "data": {
      "text/plain": [
       "5.0    2933082\n",
       "4.0    1468985\n",
       "1.0    1002159\n",
       "2.0     542394\n",
       "Name: stars, dtype: int64"
      ]
     },
     "execution_count": 7,
     "metadata": {},
     "output_type": "execute_result"
    }
   ],
   "source": [
    "DF_drop['stars'].value_counts()"
   ]
  },
  {
   "cell_type": "code",
   "execution_count": 8,
   "metadata": {},
   "outputs": [
    {
     "name": "stderr",
     "output_type": "stream",
     "text": [
      "C:\\Users\\Gabo\\Anaconda3\\envs\\Geopandas\\lib\\site-packages\\ipykernel_launcher.py:8: SettingWithCopyWarning: \n",
      "A value is trying to be set on a copy of a slice from a DataFrame.\n",
      "Try using .loc[row_indexer,col_indexer] = value instead\n",
      "\n",
      "See the caveats in the documentation: https://pandas.pydata.org/pandas-docs/stable/user_guide/indexing.html#returning-a-view-versus-a-copy\n",
      "  \n"
     ]
    }
   ],
   "source": [
    "positive = []\n",
    "\n",
    "for i in DF_drop.stars:\n",
    "    if i < 3.0:\n",
    "        positive.append(0)\n",
    "    else:\n",
    "        positive.append(1)\n",
    "DF_drop['positive'] = positive"
   ]
  },
  {
   "cell_type": "code",
   "execution_count": 9,
   "metadata": {},
   "outputs": [],
   "source": [
    "DF_pos = DF_drop[DF_drop['positive']==1]\n",
    "DF_neg = DF_drop[DF_drop['positive']==0]"
   ]
  },
  {
   "cell_type": "code",
   "execution_count": 10,
   "metadata": {},
   "outputs": [],
   "source": [
    "DF_pos_sample = DF_pos.sample(n=50000,random_state=123)\n",
    "DF_neg_sample = DF_neg.sample(n=50000,random_state=123)"
   ]
  },
  {
   "cell_type": "code",
   "execution_count": null,
   "metadata": {},
   "outputs": [],
   "source": [
    "DF_pos_sample['stars'].value_counts()"
   ]
  },
  {
   "cell_type": "code",
   "execution_count": 11,
   "metadata": {},
   "outputs": [
    {
     "data": {
      "text/plain": [
       "5.0    33298\n",
       "4.0    16702\n",
       "Name: stars, dtype: int64"
      ]
     },
     "execution_count": 11,
     "metadata": {},
     "output_type": "execute_result"
    }
   ],
   "source": [
    "DF_neg_sample['stars'].value_counts() "
   ]
  },
  {
   "cell_type": "code",
   "execution_count": 13,
   "metadata": {},
   "outputs": [],
   "source": [
    "yelp = pd.concat([DF_pos_sample,DF_neg_sample])"
   ]
  },
  {
   "cell_type": "code",
   "execution_count": 15,
   "metadata": {},
   "outputs": [],
   "source": [
    "yelp.to_csv('../data/yelp-dataset/df_yelp.csv',index=False)\n",
    "yelp = pd.read_csv('../data/yelp-dataset/df_yelp.csv')"
   ]
  },
  {
   "cell_type": "code",
   "execution_count": 17,
   "metadata": {},
   "outputs": [
    {
     "name": "stdout",
     "output_type": "stream",
     "text": [
      "0\n",
      "This row throws an error: !\n"
     ]
    },
    {
     "data": {
      "text/plain": [
       "en    99579\n",
       "Name: lang, dtype: int64"
      ]
     },
     "execution_count": 17,
     "metadata": {},
     "output_type": "execute_result"
    }
   ],
   "source": [
    "# Code to detect languages and then remove those not labelled as English. This removed about 500 examples but did\n",
    "# not clean all of the text of non english words. This might not be an issue though but not sure.\n",
    "\n",
    "yelp.text.isna().value_counts()\n",
    "\n",
    "count = 0 #check for empty strings\n",
    "for i in range(len(yelp.text)):\n",
    "    if not yelp.text[i].strip():\n",
    "        count +=1\n",
    "    else:\n",
    "        continue\n",
    "\n",
    "print(count)\n",
    "\n",
    "DetectorFactory.seed = 0\n",
    "final = []\n",
    "for i in range(len(yelp.text)):\n",
    "    try:\n",
    "        language = detect(yelp.text[i])\n",
    "    except:\n",
    "        language = \"error\"\n",
    "        print(\"This row throws an error:\", yelp.text[i])\n",
    "    final.append(language)\n",
    "\n",
    "\n",
    "yelp['lang']= final\n",
    "yelp = yelp[yelp['lang']=='en']\n",
    "\n",
    "yelp.lang.value_counts()"
   ]
  },
  {
   "cell_type": "code",
   "execution_count": 18,
   "metadata": {},
   "outputs": [],
   "source": [
    "yelp = yelp.drop(['lang','useful','stars','review_id','user_id','business_id','cool','funny','date'],axis=1)\n",
    "yelp.to_csv('../data/yelp-dataset/yelp2.csv',index=False)"
   ]
  },
  {
   "cell_type": "markdown",
   "metadata": {},
   "source": [
    "## Data cleaning for coursera dataset"
   ]
  },
  {
   "cell_type": "code",
   "execution_count": 20,
   "metadata": {},
   "outputs": [
    {
     "data": {
      "text/plain": [
       "5    79173\n",
       "4    18054\n",
       "1     2469\n",
       "2     2251\n",
       "Name: stars, dtype: int64"
      ]
     },
     "execution_count": 20,
     "metadata": {},
     "output_type": "execute_result"
    }
   ],
   "source": [
    "DF = pd.read_csv('../data/coursera/reviews_coursera.csv')\n",
    "\n",
    "DF = DF.rename(columns={'Review':'text','Label':'stars'})\n",
    "\n",
    "DF_drop = DF[DF['stars']!= 3.0]\n",
    "\n",
    "DF_drop['stars'].value_counts()"
   ]
  },
  {
   "cell_type": "code",
   "execution_count": 30,
   "metadata": {},
   "outputs": [],
   "source": [
    "DF_drop = DF_drop.drop(['Id'],axis=1)"
   ]
  },
  {
   "cell_type": "code",
   "execution_count": 23,
   "metadata": {},
   "outputs": [
    {
     "data": {
      "text/plain": [
       "5    3247\n",
       "4     753\n",
       "Name: stars, dtype: int64"
      ]
     },
     "execution_count": 23,
     "metadata": {},
     "output_type": "execute_result"
    }
   ],
   "source": [
    "positive = []\n",
    "\n",
    "for i in DF_drop.stars:\n",
    "    if i < 3.0:\n",
    "        positive.append(0)\n",
    "    else:\n",
    "        positive.append(1)\n",
    "DF_drop['positive'] = positive\n",
    "\n",
    "DF_pos = DF_drop[DF_drop['positive']==1]\n",
    "DF_neg = DF_drop[DF_drop['positive']==0]\n",
    "\n",
    "DF_pos_sample = DF_pos.sample(n=4000,random_state=123)\n",
    "DF_neg_sample = DF_neg.sample(n=4000,random_state=123)\n",
    "\n",
    "DF_pos_sample['stars'].value_counts()"
   ]
  },
  {
   "cell_type": "code",
   "execution_count": 24,
   "metadata": {},
   "outputs": [
    {
     "data": {
      "text/plain": [
       "1    2081\n",
       "2    1919\n",
       "Name: stars, dtype: int64"
      ]
     },
     "execution_count": 24,
     "metadata": {},
     "output_type": "execute_result"
    }
   ],
   "source": [
    "DF_neg_sample['stars'].value_counts()"
   ]
  },
  {
   "cell_type": "code",
   "execution_count": 25,
   "metadata": {},
   "outputs": [],
   "source": [
    "coursera = pd.concat([DF_pos_sample,DF_neg_sample])\n",
    "\n",
    "coursera = coursera.drop(['stars'],axis=1)\n",
    "\n",
    "coursera = coursera.reset_index(drop=True)"
   ]
  },
  {
   "cell_type": "code",
   "execution_count": 27,
   "metadata": {},
   "outputs": [
    {
     "data": {
      "text/html": [
       "<div>\n",
       "<style scoped>\n",
       "    .dataframe tbody tr th:only-of-type {\n",
       "        vertical-align: middle;\n",
       "    }\n",
       "\n",
       "    .dataframe tbody tr th {\n",
       "        vertical-align: top;\n",
       "    }\n",
       "\n",
       "    .dataframe thead th {\n",
       "        text-align: right;\n",
       "    }\n",
       "</style>\n",
       "<table border=\"1\" class=\"dataframe\">\n",
       "  <thead>\n",
       "    <tr style=\"text-align: right;\">\n",
       "      <th></th>\n",
       "      <th>text</th>\n",
       "      <th>pos_class</th>\n",
       "    </tr>\n",
       "  </thead>\n",
       "  <tbody>\n",
       "    <tr>\n",
       "      <th>0</th>\n",
       "      <td>I thoroughly enjoyed it. The course material c...</td>\n",
       "      <td>1</td>\n",
       "    </tr>\n",
       "    <tr>\n",
       "      <th>1</th>\n",
       "      <td>I thoroughly enjoyed doing this course. I have...</td>\n",
       "      <td>1</td>\n",
       "    </tr>\n",
       "    <tr>\n",
       "      <th>2</th>\n",
       "      <td>Great and intuitive course.</td>\n",
       "      <td>1</td>\n",
       "    </tr>\n",
       "    <tr>\n",
       "      <th>3</th>\n",
       "      <td>Thoroughly enjoyed this course! Problems and a...</td>\n",
       "      <td>1</td>\n",
       "    </tr>\n",
       "    <tr>\n",
       "      <th>4</th>\n",
       "      <td>Than; you very very much, i hope i can join yo...</td>\n",
       "      <td>1</td>\n",
       "    </tr>\n",
       "    <tr>\n",
       "      <th>...</th>\n",
       "      <td>...</td>\n",
       "      <td>...</td>\n",
       "    </tr>\n",
       "    <tr>\n",
       "      <th>7995</th>\n",
       "      <td>Interresting, but too easy to understand. Not ...</td>\n",
       "      <td>0</td>\n",
       "    </tr>\n",
       "    <tr>\n",
       "      <th>7996</th>\n",
       "      <td>Very simplistic concepts and tactics which are...</td>\n",
       "      <td>0</td>\n",
       "    </tr>\n",
       "    <tr>\n",
       "      <th>7997</th>\n",
       "      <td>This is the worst, most pathetic course I have...</td>\n",
       "      <td>0</td>\n",
       "    </tr>\n",
       "    <tr>\n",
       "      <th>7998</th>\n",
       "      <td>Videos are very brief - slide presentations of...</td>\n",
       "      <td>0</td>\n",
       "    </tr>\n",
       "    <tr>\n",
       "      <th>7999</th>\n",
       "      <td>I don't feel learning much after the class. Pa...</td>\n",
       "      <td>0</td>\n",
       "    </tr>\n",
       "  </tbody>\n",
       "</table>\n",
       "<p>8000 rows × 2 columns</p>\n",
       "</div>"
      ],
      "text/plain": [
       "                                                   text  pos_class\n",
       "0     I thoroughly enjoyed it. The course material c...          1\n",
       "1     I thoroughly enjoyed doing this course. I have...          1\n",
       "2                           Great and intuitive course.          1\n",
       "3     Thoroughly enjoyed this course! Problems and a...          1\n",
       "4     Than; you very very much, i hope i can join yo...          1\n",
       "...                                                 ...        ...\n",
       "7995  Interresting, but too easy to understand. Not ...          0\n",
       "7996  Very simplistic concepts and tactics which are...          0\n",
       "7997  This is the worst, most pathetic course I have...          0\n",
       "7998  Videos are very brief - slide presentations of...          0\n",
       "7999  I don't feel learning much after the class. Pa...          0\n",
       "\n",
       "[8000 rows x 2 columns]"
      ]
     },
     "execution_count": 27,
     "metadata": {},
     "output_type": "execute_result"
    }
   ],
   "source": [
    "coursera = coursera.rename(columns={'Review':'text','positive':'pos_class'})\n",
    "coursera"
   ]
  },
  {
   "cell_type": "code",
   "execution_count": 28,
   "metadata": {},
   "outputs": [],
   "source": [
    "coursera.to_csv('../data/coursera_clean.csv')"
   ]
  },
  {
   "cell_type": "code",
   "execution_count": null,
   "metadata": {},
   "outputs": [],
   "source": []
  },
  {
   "cell_type": "code",
   "execution_count": null,
   "metadata": {},
   "outputs": [],
   "source": []
  },
  {
   "cell_type": "code",
   "execution_count": null,
   "metadata": {},
   "outputs": [],
   "source": []
  }
 ],
 "metadata": {
  "colab": {
   "name": "Project_initial_analysis.ipynb",
   "provenance": []
  },
  "kernelspec": {
   "display_name": "Python 3",
   "language": "python",
   "name": "python3"
  },
  "language_info": {
   "codemirror_mode": {
    "name": "ipython",
    "version": 3
   },
   "file_extension": ".py",
   "mimetype": "text/x-python",
   "name": "python",
   "nbconvert_exporter": "python",
   "pygments_lexer": "ipython3",
   "version": "3.7.6"
  }
 },
 "nbformat": 4,
 "nbformat_minor": 1
}
